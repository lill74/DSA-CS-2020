{
 "metadata": {
  "language_info": {
   "codemirror_mode": {
    "name": "ipython",
    "version": 3
   },
   "file_extension": ".py",
   "mimetype": "text/x-python",
   "name": "python",
   "nbconvert_exporter": "python",
   "pygments_lexer": "ipython3",
   "version": "3.7.4-final"
  },
  "orig_nbformat": 2,
  "kernelspec": {
   "name": "python3",
   "display_name": "Python 3"
  }
 },
 "nbformat": 4,
 "nbformat_minor": 2,
 "cells": [
  {
   "source": [
    "import numpy as np"
   ],
   "cell_type": "code",
   "metadata": {},
   "execution_count": 5,
   "outputs": []
  },
  {
   "cell_type": "code",
   "execution_count": 15,
   "metadata": {},
   "outputs": [],
   "source": [
    "# 문과생도 이해하는 딥러닝 (5) - 신경망 학습 실습\n",
    "# from sacko.tistory.com\n",
    "# y는 신경망의 출력, t는 정답"
   ]
  },
  {
   "cell_type": "code",
   "execution_count": 34,
   "metadata": {},
   "outputs": [],
   "source": [
    "# Mean squared(평균 제곱근 편차) Error - 오차의 제곱에 대한 평균\n",
    "def mean_suqared_error(y, t):\n",
    "    # Array 끼리 빼기, 제곱 연산후 Array의 총합\n",
    "    return 0.5 * np.sum((y - t) ** 2)"
   ]
  },
  {
   "cell_type": "code",
   "execution_count": 42,
   "metadata": {},
   "outputs": [],
   "source": [
    "t = [0, 0, 1, 0, 0, 0, 0, 0, 0, 0]"
   ]
  },
  {
   "cell_type": "code",
   "execution_count": 36,
   "metadata": {},
   "outputs": [],
   "source": [
    "y1 = [0.1, 0.05, 0.6, 0.0, 0.05, 0.1, 0.0, 0.1, 0.0, 0.0]"
   ]
  },
  {
   "cell_type": "code",
   "execution_count": null,
   "metadata": {},
   "outputs": [],
   "source": [
    "y2 = [0.1, 0.05, 0.1, 0.0, 0.05, 0.1, 0.0, 0.6, 0.0, 0.0]"
   ]
  },
  {
   "cell_type": "code",
   "execution_count": 37,
   "metadata": {},
   "outputs": [
    {
     "output_type": "stream",
     "name": "stdout",
     "text": [
      "0.09750000000000003\n"
     ]
    }
   ],
   "source": [
    "print(mean_suqared_error(np.array(y1)np.array(t)))\n",
    "# Output: 0.09750000000000003"
   ]
  },
  {
   "cell_type": "code",
   "execution_count": 40,
   "metadata": {},
   "outputs": [
    {
     "output_type": "stream",
     "name": "stdout",
     "text": [
      "0.5975\n"
     ]
    }
   ],
   "source": [
    "print(mean_suqared_error(np.array(y2), np.array(t)))\n",
    "# Output: 0.5975"
   ]
  },
  {
   "cell_type": "code",
   "execution_count": 43,
   "metadata": {},
   "outputs": [],
   "source": [
    "# Cross Entropy Error(교차 엔트로피 오차)\n",
    "# t의 경우 One-Hot encoding이 적용된다\n",
    "def cross_entropy_error(y, t):\n",
    "    delta = 1e-7\n",
    "    return -np.sum(t * np.log(y + delta))"
   ]
  },
  {
   "cell_type": "code",
   "execution_count": 44,
   "metadata": {},
   "outputs": [
    {
     "output_type": "stream",
     "name": "stdout",
     "text": [
      "0.510825457099338\n"
     ]
    }
   ],
   "source": [
    "print(cross_entropy_error(np.array(y1), np.array(t)))\n",
    "# Output: 0.510825457099338"
   ]
  },
  {
   "cell_type": "code",
   "execution_count": 45,
   "metadata": {},
   "outputs": [
    {
     "output_type": "stream",
     "name": "stdout",
     "text": [
      "2.302584092994546\n"
     ]
    }
   ],
   "source": [
    "print(cross_entropy_error(np.array(y2), np.array(t)))\n",
    "# Output: 2.302584092994546"
   ]
  },
  {
   "cell_type": "code",
   "execution_count": 7,
   "metadata": {},
   "outputs": [
    {
     "output_type": "stream",
     "name": "stdout",
     "text": [
      "(60000, 784)\n(60000, 10)\n"
     ]
    }
   ],
   "source": [
    "# Mini-Batch(미니배치 학습)\n",
    "# 데이터의 일부만 뽑아와서 학습 - 성능에 큰 이점\n",
    "from mnist import load_mnist\n",
    "\n",
    "(x_train, t_train), (x_test, t_test) = load_mnist(normalize=True, one_hot_label=True)\n",
    "\n",
    "print(x_train.shape)\n",
    "print(t_train.shape)\n",
    "\n",
    "# Output: (60000, 784)\n",
    "# Output: (60000, 10)"
   ]
  },
  {
   "cell_type": "code",
   "execution_count": 10,
   "metadata": {},
   "outputs": [],
   "source": [
    "train_size = x_train.shape[0]\n",
    "batch_size = 10\n",
    "batch_mask = np.random.choice(train_size, batch_size)\n",
    "# Output: Extract 10 random Index ->\n",
    "# array([30154, 33403, 48273,  2685, 47908, 37725,  9450, 17780,  1137, 28262])"
   ]
  },
  {
   "cell_type": "code",
   "execution_count": 11,
   "metadata": {},
   "outputs": [
    {
     "output_type": "execute_result",
     "data": {
      "text/plain": [
       "array([43227,  8289,  6998, 32905,  1963, 52368, 31422, 12263,  8615,\n",
       "       36738])"
      ]
     },
     "metadata": {},
     "execution_count": 11
    }
   ],
   "source": [
    "batch_mask"
   ]
  },
  {
   "cell_type": "code",
   "execution_count": 14,
   "metadata": {},
   "outputs": [],
   "source": [
    "# 미니배치를 위한 Cross Entroy Error 구현\n",
    "# one-shop encoding 인 경우\n",
    "def cross_entropy_error(y, t):\n",
    "    # 일차원 배열이라면\n",
    "    if y.ndim == 1:\n",
    "        t = t.reshape(1, t.size)\n",
    "        y = y.reshape(1, y.size)\n",
    "\n",
    "    batch_size = y.shape[0]\n",
    "    return -np.sum(t * np.log(y)) / batch_size\n",
    "\n",
    "# 레이블 형태인 경우\n",
    "def cross_entropy_error(y, t):\n",
    "    if y.ndim == 1:\n",
    "            t = t.reshape(1, t.size)\n",
    "            y = y.reshape(1, y.size)\n",
    "\n",
    "    batch_size = y.shape[0]\n",
    "    return -np.sum(np.log(y[np.arrange(batch_size), t])) / batch_size\n",
    "\n",
    "# 손실함수는 높은 정확도를 가진 가중치 매개변수를 구하기 위함임\n",
    "# 손실함수의 값을 가능한 한 작게 하는 값을 찾으며 기울기를 계산하고, 매개변수의 값을 서서히 갱신하는 과정을 반복함.\n"
   ]
  },
  {
   "cell_type": "code",
   "execution_count": null,
   "metadata": {},
   "outputs": [],
   "source": [
    "# 미분: 경사법에서는 기울기 값을 기준으로 방향을 정한다\n",
    "# 수치미분\n",
    "# 편미분: 특정 장소에 대한 기울기를 구함\n",
    "# 기울기 Gradient: 모든 변수의 편미분을 벡터로 정리한것\n",
    "# 경사하강법: \n",
    "# Learning Rate: 한 번 학습할때 얼만큼 학습해야 하는지에 대한 학습 양\n",
    "# Epoch: 하나의 학습 단위, 1 에포는 학습에서 훈련 데이터를 가지고 훈련을 모두 완료했을 때를 말함"
   ]
  }
 ]
}